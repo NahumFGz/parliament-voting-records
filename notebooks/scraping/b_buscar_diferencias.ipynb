{
 "cells": [
  {
   "cell_type": "code",
   "execution_count": 9,
   "id": "51942248",
   "metadata": {},
   "outputs": [
    {
     "data": {
      "text/html": [
       "<div>\n",
       "<style scoped>\n",
       "    .dataframe tbody tr th:only-of-type {\n",
       "        vertical-align: middle;\n",
       "    }\n",
       "\n",
       "    .dataframe tbody tr th {\n",
       "        vertical-align: top;\n",
       "    }\n",
       "\n",
       "    .dataframe thead th {\n",
       "        text-align: right;\n",
       "    }\n",
       "</style>\n",
       "<table border=\"1\" class=\"dataframe\">\n",
       "  <thead>\n",
       "    <tr style=\"text-align: right;\">\n",
       "      <th></th>\n",
       "      <th>file_name</th>\n",
       "    </tr>\n",
       "  </thead>\n",
       "  <tbody>\n",
       "    <tr>\n",
       "      <th>0</th>\n",
       "      <td>c755f44a-8701-54e6-8b39-e76ad890f595.pdf</td>\n",
       "    </tr>\n",
       "    <tr>\n",
       "      <th>1</th>\n",
       "      <td>8f5f9de7-48ed-51bf-93c7-847fc3b689bf.pdf</td>\n",
       "    </tr>\n",
       "    <tr>\n",
       "      <th>2</th>\n",
       "      <td>2bfb3766-d2e8-53be-ae44-81f2b513cf99.pdf</td>\n",
       "    </tr>\n",
       "    <tr>\n",
       "      <th>3</th>\n",
       "      <td>9926bf52-28ac-5817-aade-9903df6a42e9.pdf</td>\n",
       "    </tr>\n",
       "    <tr>\n",
       "      <th>4</th>\n",
       "      <td>b9f7677c-82be-5f66-b91e-65d1e7bc9276.pdf</td>\n",
       "    </tr>\n",
       "    <tr>\n",
       "      <th>...</th>\n",
       "      <td>...</td>\n",
       "    </tr>\n",
       "    <tr>\n",
       "      <th>932</th>\n",
       "      <td>c899e4c7-c97e-5c06-80d1-35aa13f5edfb.pdf</td>\n",
       "    </tr>\n",
       "    <tr>\n",
       "      <th>933</th>\n",
       "      <td>545ea1a4-83f0-5dd6-ab13-855b5e9600d8.pdf</td>\n",
       "    </tr>\n",
       "    <tr>\n",
       "      <th>934</th>\n",
       "      <td>282c7f19-818b-5e47-8a6d-96e72d295332.pdf</td>\n",
       "    </tr>\n",
       "    <tr>\n",
       "      <th>935</th>\n",
       "      <td>4b4ea7e1-338e-5088-bf0b-4a6842b7b017.pdf</td>\n",
       "    </tr>\n",
       "    <tr>\n",
       "      <th>936</th>\n",
       "      <td>f3e91fae-a938-5717-95b6-6140b7c7c038.pdf</td>\n",
       "    </tr>\n",
       "  </tbody>\n",
       "</table>\n",
       "<p>937 rows × 1 columns</p>\n",
       "</div>"
      ],
      "text/plain": [
       "                                    file_name\n",
       "0    c755f44a-8701-54e6-8b39-e76ad890f595.pdf\n",
       "1    8f5f9de7-48ed-51bf-93c7-847fc3b689bf.pdf\n",
       "2    2bfb3766-d2e8-53be-ae44-81f2b513cf99.pdf\n",
       "3    9926bf52-28ac-5817-aade-9903df6a42e9.pdf\n",
       "4    b9f7677c-82be-5f66-b91e-65d1e7bc9276.pdf\n",
       "..                                        ...\n",
       "932  c899e4c7-c97e-5c06-80d1-35aa13f5edfb.pdf\n",
       "933  545ea1a4-83f0-5dd6-ab13-855b5e9600d8.pdf\n",
       "934  282c7f19-818b-5e47-8a6d-96e72d295332.pdf\n",
       "935  4b4ea7e1-338e-5088-bf0b-4a6842b7b017.pdf\n",
       "936  f3e91fae-a938-5717-95b6-6140b7c7c038.pdf\n",
       "\n",
       "[937 rows x 1 columns]"
      ]
     },
     "execution_count": 9,
     "metadata": {},
     "output_type": "execute_result"
    }
   ],
   "source": [
    "import os\n",
    "import pandas as pd\n",
    "\n",
    "# Ruta de la carpeta con la extensión\n",
    "EXTENSION = '.pdf'\n",
    "FOLDER_PATH = '/home/nahumfg/GithubProjects/parliament-voting-records/data/scraping/a_pdfs'\n",
    "\n",
    "# Crear lista de archivos (solo nombres, sin full_path)\n",
    "files = [\n",
    "    {'file_name': f}\n",
    "    for f in os.listdir(FOLDER_PATH)\n",
    "    if f.lower().endswith(EXTENSION)\n",
    "]\n",
    "\n",
    "# Crear el DataFrame\n",
    "df_dir_files = pd.DataFrame(files)\n",
    "df_dir_files"
   ]
  },
  {
   "cell_type": "code",
   "execution_count": 10,
   "id": "149d6647",
   "metadata": {},
   "outputs": [
    {
     "data": {
      "text/html": [
       "<div>\n",
       "<style scoped>\n",
       "    .dataframe tbody tr th:only-of-type {\n",
       "        vertical-align: middle;\n",
       "    }\n",
       "\n",
       "    .dataframe tbody tr th {\n",
       "        vertical-align: top;\n",
       "    }\n",
       "\n",
       "    .dataframe thead th {\n",
       "        text-align: right;\n",
       "    }\n",
       "</style>\n",
       "<table border=\"1\" class=\"dataframe\">\n",
       "  <thead>\n",
       "    <tr style=\"text-align: right;\">\n",
       "      <th></th>\n",
       "      <th>periodo_parlamentario</th>\n",
       "      <th>periodo_anual</th>\n",
       "      <th>legislatura</th>\n",
       "      <th>descripcion</th>\n",
       "      <th>clean_link</th>\n",
       "      <th>file_name</th>\n",
       "    </tr>\n",
       "  </thead>\n",
       "  <tbody>\n",
       "  </tbody>\n",
       "</table>\n",
       "</div>"
      ],
      "text/plain": [
       "Empty DataFrame\n",
       "Columns: [periodo_parlamentario, periodo_anual, legislatura, descripcion, clean_link, file_name]\n",
       "Index: []"
      ]
     },
     "execution_count": 10,
     "metadata": {},
     "output_type": "execute_result"
    }
   ],
   "source": [
    "df_nuevos_documentos = pd.read_csv('nuevos_documentos.csv', sep=\",\", encoding=\"utf-8\")\n",
    "# Elimina de df_nuevos_documentos todos los 'file_name' que ya están en df_dir_files\n",
    "df_faltantes = df_nuevos_documentos[~df_nuevos_documentos['file_name'].isin(df_dir_files['file_name'])]\n",
    "df_faltantes.to_csv('faltantes.csv', header=True, index=False, encoding=\"utf-8\")\n",
    "df_faltantes"
   ]
  },
  {
   "cell_type": "code",
   "execution_count": null,
   "id": "9680a313",
   "metadata": {},
   "outputs": [],
   "source": []
  }
 ],
 "metadata": {
  "kernelspec": {
   "display_name": "venv_test",
   "language": "python",
   "name": "python3"
  },
  "language_info": {
   "codemirror_mode": {
    "name": "ipython",
    "version": 3
   },
   "file_extension": ".py",
   "mimetype": "text/x-python",
   "name": "python",
   "nbconvert_exporter": "python",
   "pygments_lexer": "ipython3",
   "version": "3.10.12"
  }
 },
 "nbformat": 4,
 "nbformat_minor": 5
}
