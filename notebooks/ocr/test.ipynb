{
 "cells": [
  {
   "cell_type": "code",
   "execution_count": 3,
   "id": "c1f37f7d",
   "metadata": {},
   "outputs": [],
   "source": [
    "import shutil\n",
    "import easyocr\n",
    "import pytesseract\n",
    "from PIL import Image\n",
    "from pathlib import Path\n",
    "from doctr.models import ocr_predictor\n",
    "from doctr.io import DocumentFile\n",
    "from paddleocr import PaddleOCR\n",
    "\n",
    "img_path = '/home/nahumfg/GithubProjects/parliament-voting-records/data/procesamiento_todas_votaciones/b_zonas/00b74263-2ccc-5014-b3ab-f4e2617c1867_page003_/test_3.jpg'\n",
    "\n",
    "# Cargar imagen\n",
    "image = Image.open(img_path)"
   ]
  },
  {
   "cell_type": "code",
   "execution_count": 4,
   "id": "8167efac",
   "metadata": {},
   "outputs": [
    {
     "name": "stderr",
     "output_type": "stream",
     "text": [
      "[2025-10-29 15:22:28,678] [ WARNING] easyocr.py:71 - Using CPU. Note: This module is much faster with a GPU.\n",
      "[2025-10-29 15:22:28,680] [ WARNING] easyocr.py:251 - Downloading detection model, please wait. This may take several minutes depending upon your network connection.\n"
     ]
    },
    {
     "name": "stdout",
     "output_type": "stream",
     "text": [
      "🔹 Tesseract OCR:\n",
      "SI +++\n",
      "aus\n",
      "Abst.\n",
      "SI +++\n",
      "LO\n",
      "\n",
      "SI +++\n",
      "SI ++\n",
      "Aus\n",
      "\n",
      "Lo\n",
      "\n",
      "NO ==-\n",
      "SI +++\n",
      "SI +++\n",
      "SI +++\n",
      "LE\n",
      "\n",
      "SI +++\n",
      "aus\n",
      "\n",
      "NO ---\n",
      "NO ===\n",
      "NO ---\n",
      "SI +++\n",
      "SI +++\n",
      "SI +44\n",
      "SI +++\n",
      "SI Hr\n",
      "AbSt.\n",
      "aus\n",
      "\n",
      "SI +++\n",
      "\n",
      "SI +++\n",
      "\f\n",
      "------------------------------------------------------------\n",
      "🔹 EasyOCR:\n",
      "Progress: |██████████████████████████████████████████████████| 100.0% Complete"
     ]
    },
    {
     "name": "stderr",
     "output_type": "stream",
     "text": [
      "[2025-10-29 15:22:30,757] [ WARNING] easyocr.py:176 - Downloading recognition model, please wait. This may take several minutes depending upon your network connection.\n"
     ]
    },
    {
     "name": "stdout",
     "output_type": "stream",
     "text": [
      "Progress: |██████████████████████████████████████████████████| 100.0% CompleteTexto: SI | Confianza: 0.97\n",
      "Texto: aus | Confianza: 1.00\n",
      "Texto: Abst. | Confianza: 0.99\n",
      "Texto: SI | Confianza: 1.00\n",
      "Texto: LO | Confianza: 0.39\n",
      "Texto: SI | Confianza: 0.61\n",
      "Texto: SI | Confianza: 0.99\n",
      "Texto: aus | Confianza: 0.88\n",
      "Texto: Lo | Confianza: 0.82\n",
      "Texto: No | Confianza: 0.89\n",
      "Texto: SI | Confianza: 0.98\n",
      "Texto: SI | Confianza: 0.33\n",
      "Texto: SI | Confianza: 0.92\n",
      "Texto: LE | Confianza: 0.49\n",
      "Texto: SI | Confianza: 0.95\n",
      "Texto: aus | Confianza: 0.99\n",
      "Texto: No | Confianza: 0.71\n",
      "Texto: No | Confianza: 0.76\n",
      "Texto: No | Confianza: 0.48\n",
      "Texto: SI | Confianza: 1.00\n",
      "Texto: SI | Confianza: 0.97\n",
      "Texto: 5I | Confianza: 0.83\n",
      "Texto: SI | Confianza: 0.46\n",
      "Texto: SI | Confianza: 0.98\n",
      "Texto: Abst | Confianza: 1.00\n",
      "Texto: aus | Confianza: 0.67\n",
      "Texto: SI | Confianza: 1.00\n",
      "Texto: SI | Confianza: 1.00\n",
      "Texto: SI | Confianza: 0.98\n",
      "Texto: SI | Confianza: 0.81\n",
      "Texto: SI | Confianza: 0.99\n",
      "Texto: Abst | Confianza: 0.95\n",
      "Texto: aus | Confianza: 0.97\n",
      "Texto: No | Confianza: 0.75\n",
      "Texto: Abs[ | Confianza: 0.50\n",
      "Texto: SI | Confianza: 0.69\n",
      "Texto: NO | Confianza: 0.52\n",
      "Texto: NO | Confianza: 0.58\n",
      "Texto: Absl | Confianza: 0.31\n",
      "Texto: aus | Confianza: 1.00\n",
      "Texto: NO | Confianza: 0.53\n",
      "Texto: SI | Confianza: 1.00\n",
      "Texto: SI | Confianza: 0.95\n",
      "Texto: Abst. | Confianza: 0.99\n",
      "------------------------------------------------------------\n",
      "🔹 docTR:\n",
      "Downloading https://doctr-static.mindee.com/models?id=v0.8.1/fast_base-688a8b34.pt&src=0 to /home/nahumfg/.cache/doctr/models/fast_base-688a8b34.pt\n"
     ]
    },
    {
     "data": {
      "application/vnd.jupyter.widget-view+json": {
       "model_id": "fff9261e4d0546c68018feb0dc6ba804",
       "version_major": 2,
       "version_minor": 0
      },
      "text/plain": [
       "  0%|          | 0/65814772 [00:00<?, ?it/s]"
      ]
     },
     "metadata": {},
     "output_type": "display_data"
    },
    {
     "name": "stdout",
     "output_type": "stream",
     "text": [
      "Downloading https://doctr-static.mindee.com/models?id=v0.12.0/crnn_vgg16_bn-0417f351.pt&src=0 to /home/nahumfg/.cache/doctr/models/crnn_vgg16_bn-0417f351.pt\n"
     ]
    },
    {
     "data": {
      "application/vnd.jupyter.widget-view+json": {
       "model_id": "8a9a10f393134c7c947edf195770f10a",
       "version_major": 2,
       "version_minor": 0
      },
      "text/plain": [
       "  0%|          | 0/63303144 [00:00<?, ?it/s]"
      ]
     },
     "metadata": {},
     "output_type": "display_data"
    },
    {
     "name": "stdout",
     "output_type": "stream",
     "text": [
      "Línea: SI\n",
      "Línea: aus\n",
      "Línea: Abst.\n",
      "Línea: SI\n",
      "Línea: +++\n",
      "Línea: LO\n",
      "Línea: SI\n",
      "Línea: ++\n",
      "Línea: SI\n",
      "Línea: +++\n",
      "Línea: aus\n",
      "Línea: LO\n",
      "Línea: NO\n",
      "Línea: SI\n",
      "Línea: +++\n",
      "Línea: SI\n",
      "Línea: +++\n",
      "Línea: SI\n",
      "Línea: +++\n",
      "Línea: LE\n",
      "Línea: SI\n",
      "Línea: +++\n",
      "Línea: aus\n",
      "Línea: NO\n",
      "Línea: NO\n",
      "Línea: NO\n",
      "Línea: SI\n",
      "Línea: +++\n",
      "Línea: SI\n",
      "Línea: +++\n",
      "Línea: SI\n",
      "Línea: +\n",
      "Línea: SI\n",
      "Línea: +++\n",
      "Línea: SI\n",
      "Línea: +++\n",
      "Línea: Abst.\n",
      "Línea: aus\n",
      "Línea: SI\n",
      "Línea: + ++\n",
      "Línea: SI\n",
      "Línea: +++\n",
      "Línea: SI\n",
      "Línea: +++\n",
      "Línea: SI\n",
      "Línea: +\n",
      "Línea: SI\n",
      "Línea: +++\n",
      "Línea: Abst.\n",
      "Línea: aus\n",
      "Línea: NO\n",
      "Línea: Abst.\n",
      "Línea: SI\n",
      "Línea: +++\n",
      "Línea: NO\n",
      "Línea: NO\n",
      "Línea: Abst.\n",
      "Línea: aus\n",
      "Línea: NO\n",
      "Línea: SI\n",
      "Línea: +++\n",
      "Línea: SI\n",
      "Línea: +++\n",
      "Línea: Abst.\n",
      "------------------------------------------------------------\n",
      "download https://paddleocr.bj.bcebos.com/PP-OCRv3/english/en_PP-OCRv3_det_infer.tar to models/det/ppocrv3_det_infer/en_PP-OCRv3_det_infer.tar\n"
     ]
    },
    {
     "name": "stderr",
     "output_type": "stream",
     "text": [
      "100%|██████████| 3910/3910 [00:19<00:00, 197.28it/s]\n"
     ]
    },
    {
     "name": "stdout",
     "output_type": "stream",
     "text": [
      "download https://paddleocr.bj.bcebos.com/PP-OCRv3/multilingual/latin_PP-OCRv3_rec_infer.tar to models/rec/ppocrv3_rec_infer/latin_PP-OCRv3_rec_infer.tar\n"
     ]
    },
    {
     "name": "stderr",
     "output_type": "stream",
     "text": [
      "100%|██████████| 9930/9930 [00:02<00:00, 3502.44it/s]\n"
     ]
    },
    {
     "name": "stdout",
     "output_type": "stream",
     "text": [
      "download https://paddleocr.bj.bcebos.com/dygraph_v2.0/ch/ch_ppocr_mobile_v2.0_cls_infer.tar to /home/nahumfg/.paddleocr/whl/cls/ch_ppocr_mobile_v2.0_cls_infer/ch_ppocr_mobile_v2.0_cls_infer.tar\n"
     ]
    },
    {
     "name": "stderr",
     "output_type": "stream",
     "text": [
      "100%|██████████| 2138/2138 [00:18<00:00, 115.43it/s]"
     ]
    },
    {
     "name": "stdout",
     "output_type": "stream",
     "text": [
      "[2025/10/29 15:23:26] ppocr DEBUG: Namespace(help='==SUPPRESS==', use_gpu=False, use_xpu=False, use_npu=False, use_mlu=False, use_gcu=False, ir_optim=True, use_tensorrt=False, min_subgraph_size=15, precision='fp32', gpu_mem=500, gpu_id=0, image_dir=None, page_num=0, det_algorithm='DB', det_model_dir='models/det/ppocrv3_det_infer', det_limit_side_len=960, det_limit_type='max', det_box_type='quad', det_db_thresh=0.3, det_db_box_thresh=0.6, det_db_unclip_ratio=1.5, max_batch_size=10, use_dilation=False, det_db_score_mode='fast', det_east_score_thresh=0.8, det_east_cover_thresh=0.1, det_east_nms_thresh=0.2, det_sast_score_thresh=0.5, det_sast_nms_thresh=0.2, det_pse_thresh=0, det_pse_box_thresh=0.85, det_pse_min_area=16, det_pse_scale=1, scales=[8, 16, 32], alpha=1.0, beta=1.0, fourier_degree=5, rec_algorithm='SVTR_LCNet', rec_model_dir='models/rec/ppocrv3_rec_infer', rec_image_inverse=True, rec_image_shape='3, 48, 320', rec_batch_num=6, max_text_length=25, rec_char_dict_path='/home/nahumfg/GithubProjects/parliament-voting-records/venv_test/lib/python3.10/site-packages/paddleocr/ppocr/utils/dict/latin_dict.txt', use_space_char=True, vis_font_path='./doc/fonts/simfang.ttf', drop_score=0.5, e2e_algorithm='PGNet', e2e_model_dir=None, e2e_limit_side_len=768, e2e_limit_type='max', e2e_pgnet_score_thresh=0.5, e2e_char_dict_path='./ppocr/utils/ic15_dict.txt', e2e_pgnet_valid_set='totaltext', e2e_pgnet_mode='fast', use_angle_cls=True, cls_model_dir='/home/nahumfg/.paddleocr/whl/cls/ch_ppocr_mobile_v2.0_cls_infer', cls_image_shape='3, 48, 192', label_list=['0', '180'], cls_batch_num=6, cls_thresh=0.9, enable_mkldnn=False, cpu_threads=10, use_pdserving=False, warmup=False, sr_model_dir=None, sr_image_shape='3, 32, 128', sr_batch_num=1, draw_img_save_dir='./inference_results', save_crop_res=False, crop_res_save_dir='./output', use_mp=False, total_process_num=1, process_id=0, benchmark=False, save_log_path='./log_output/', show_log=True, use_onnx=False, onnx_providers=False, onnx_sess_options=False, return_word_box=False, output='./output', table_max_len=488, table_algorithm='TableAttn', table_model_dir=None, merge_no_span_structure=True, table_char_dict_path=None, formula_algorithm='LaTeXOCR', formula_model_dir=None, formula_char_dict_path=None, formula_batch_num=1, layout_model_dir=None, layout_dict_path=None, layout_score_threshold=0.5, layout_nms_threshold=0.5, kie_algorithm='LayoutXLM', ser_model_dir=None, re_model_dir=None, use_visual_backbone=True, ser_dict_path='../train_data/XFUND/class_list_xfun.txt', ocr_order_method=None, mode='structure', image_orientation=False, layout=True, table=True, formula=False, ocr=True, recovery=False, recovery_to_markdown=False, use_pdf2docx_api=False, invert=False, binarize=False, alphacolor=(255, 255, 255), lang='es', det=True, rec=True, type='ocr', savefile=False, ocr_version='PP-OCRv4', structure_version='PP-StructureV2')\n"
     ]
    },
    {
     "name": "stderr",
     "output_type": "stream",
     "text": [
      "\n"
     ]
    },
    {
     "name": "stdout",
     "output_type": "stream",
     "text": [
      "[2025/10/29 15:23:27] ppocr DEBUG: dt_boxes num : 71, elapsed : 0.03667187690734863\n",
      "[2025/10/29 15:23:27] ppocr DEBUG: cls num  : 71, elapsed : 0.06295490264892578\n",
      "[2025/10/29 15:23:27] ppocr DEBUG: rec_res num  : 71, elapsed : 0.22912836074829102\n",
      "Texto: S1 | Confianza: 0.51\n",
      "Texto: +++ | Confianza: 0.99\n",
      "Texto: aus | Confianza: 1.00\n",
      "Texto: Abst. | Confianza: 0.97\n",
      "Texto: SI | Confianza: 0.88\n",
      "Texto: +++ | Confianza: 0.91\n",
      "Texto: LO | Confianza: 0.95\n",
      "Texto: ST | Confianza: 0.93\n",
      "Texto: +++ | Confianza: 0.97\n",
      "Texto: 51 | Confianza: 0.83\n",
      "Texto: +++ | Confianza: 0.86\n",
      "Texto: aus | Confianza: 1.00\n",
      "Texto: LO | Confianza: 0.97\n",
      "Texto: NO | Confianza: 0.99\n",
      "Texto: --- | Confianza: 0.75\n",
      "Texto: SI | Confianza: 0.79\n",
      "Texto: +++ | Confianza: 1.00\n",
      "Texto: S1 | Confianza: 0.79\n",
      "Texto: +++ | Confianza: 0.88\n",
      "Texto: S1 | Confianza: 0.63\n",
      "Texto: +++ | Confianza: 0.99\n",
      "Texto: LE | Confianza: 1.00\n",
      "Texto: S1 | Confianza: 0.68\n",
      "Texto: +++ | Confianza: 0.99\n",
      "Texto: aus | Confianza: 1.00\n",
      "Texto: NO | Confianza: 0.98\n",
      "Texto: --- | Confianza: 0.73\n",
      "Texto: NO | Confianza: 0.99\n",
      "Texto: NO | Confianza: 0.99\n",
      "Texto: S1 | Confianza: 0.70\n",
      "Texto: +++ | Confianza: 1.00\n",
      "Texto: SI | Confianza: 0.81\n",
      "Texto: +++ | Confianza: 0.99\n",
      "Texto: SI | Confianza: 0.83\n",
      "Texto: +++ | Confianza: 0.99\n",
      "Texto: SI | Confianza: 0.87\n",
      "Texto: ++4 | Confianza: 0.84\n",
      "Texto: S1 | Confianza: 0.72\n",
      "Texto: +++ | Confianza: 0.98\n",
      "Texto: Abst. | Confianza: 0.99\n",
      "Texto: aus | Confianza: 1.00\n",
      "Texto: SI | Confianza: 0.92\n",
      "Texto: +++ | Confianza: 0.99\n",
      "Texto: SI | Confianza: 0.72\n",
      "Texto: +++ | Confianza: 0.91\n",
      "Texto: SI | Confianza: 0.62\n",
      "Texto: +++ | Confianza: 0.99\n",
      "Texto: SI | Confianza: 0.87\n",
      "Texto: +++ | Confianza: 0.99\n",
      "Texto: S1 | Confianza: 0.71\n",
      "Texto: +++ | Confianza: 1.00\n",
      "Texto: Abst. | Confianza: 0.99\n",
      "Texto: aus | Confianza: 1.00\n",
      "Texto: NO | Confianza: 0.99\n",
      "Texto: Abst. | Confianza: 0.99\n",
      "Texto: SI | Confianza: 0.78\n",
      "Texto: +++ | Confianza: 0.99\n",
      "Texto: NO | Confianza: 0.99\n",
      "Texto: --- | Confianza: 0.78\n",
      "Texto: NO | Confianza: 0.99\n",
      "Texto: - - - | Confianza: 0.63\n",
      "Texto: Abst. | Confianza: 1.00\n",
      "Texto: aus | Confianza: 1.00\n",
      "Texto: NO | Confianza: 0.98\n",
      "Texto: -- | Confianza: 0.58\n",
      "Texto: S1 | Confianza: 0.71\n",
      "Texto: +++ | Confianza: 1.00\n",
      "Texto: SI | Confianza: 0.67\n",
      "Texto: +++ | Confianza: 0.99\n",
      "Texto: Abst. | Confianza: 0.99\n"
     ]
    }
   ],
   "source": [
    "# 1️⃣ Tesseract OCR\n",
    "print(\"🔹 Tesseract OCR:\")\n",
    "print(pytesseract.image_to_string(image, lang='spa'))\n",
    "print(\"-\" * 60)\n",
    "\n",
    "# 2️⃣ EasyOCR\n",
    "print(\"🔹 EasyOCR:\")\n",
    "reader = easyocr.Reader(['es'], gpu=False)\n",
    "for line in reader.readtext(img_path, detail=1):\n",
    "    text, score = line[1], line[2]\n",
    "    print(f\"Texto: {text} | Confianza: {score:.2f}\")\n",
    "print(\"-\" * 60)\n",
    "\n",
    "# 3️⃣ docTR\n",
    "print(\"🔹 docTR:\")\n",
    "doc = DocumentFile.from_images(img_path)\n",
    "model = ocr_predictor(pretrained=True)\n",
    "result = model(doc)\n",
    "for block in result.pages[0].blocks:\n",
    "    for line in block.lines:\n",
    "        text = \" \".join([word.value for word in line.words])\n",
    "        print(f\"Línea: {text}\")\n",
    "print(\"-\" * 60)\n",
    "\n",
    "\n",
    "# 4️⃣ PaddleOCR\n",
    "ocr = PaddleOCR(\n",
    "    det_model_dir=\"models/det/ppocrv3_det_infer\",\n",
    "    rec_model_dir=\"models/rec/ppocrv3_rec_infer\",\n",
    "    use_angle_cls=True,\n",
    "    lang=\"es\",\n",
    ")\n",
    "\n",
    "result = ocr.ocr(str(img_path), cls=True)  \n",
    "\n",
    "for line in result[0]:\n",
    "    text = line[1][0]\n",
    "    score = line[1][1]\n",
    "    print(f\"Texto: {text} | Confianza: {score:.2f}\")"
   ]
  },
  {
   "cell_type": "code",
   "execution_count": null,
   "id": "56c99d58",
   "metadata": {},
   "outputs": [],
   "source": []
  }
 ],
 "metadata": {
  "kernelspec": {
   "display_name": "venv_test",
   "language": "python",
   "name": "python3"
  },
  "language_info": {
   "codemirror_mode": {
    "name": "ipython",
    "version": 3
   },
   "file_extension": ".py",
   "mimetype": "text/x-python",
   "name": "python",
   "nbconvert_exporter": "python",
   "pygments_lexer": "ipython3",
   "version": "3.10.12"
  }
 },
 "nbformat": 4,
 "nbformat_minor": 5
}
