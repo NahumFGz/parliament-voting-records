{
 "cells": [
  {
   "cell_type": "markdown",
   "id": "1c6664de",
   "metadata": {},
   "source": [
    "# Demo de split simple"
   ]
  },
  {
   "cell_type": "markdown",
   "id": "f8112c5e",
   "metadata": {},
   "source": [
    "# 1. Generar los datasets para entrenar YOLO\n"
   ]
  },
  {
   "cell_type": "code",
   "execution_count": 2,
   "id": "1f16d9db",
   "metadata": {},
   "outputs": [],
   "source": [
    "import os\n",
    "import shutil\n",
    "import random\n",
    "\n",
    "def split_dataset_yolo(\n",
    "    images_dir: str,\n",
    "    labels_dir: str,\n",
    "    train_images_dir: str,\n",
    "    train_labels_dir: str,\n",
    "    val_images_dir: str,\n",
    "    val_labels_dir: str,\n",
    "    train_ratio: float = 0.8,\n",
    "    seed: int = 42\n",
    "):\n",
    "    \"\"\"\n",
    "    Divide un conjunto de datos tipo YOLO en entrenamiento y validación.\n",
    "\n",
    "    Args:\n",
    "        images_dir (str): Ruta de imágenes originales.\n",
    "        labels_dir (str): Ruta de etiquetas originales.\n",
    "        train_images_dir (str): Carpeta destino para imágenes de entrenamiento.\n",
    "        train_labels_dir (str): Carpeta destino para etiquetas de entrenamiento.\n",
    "        val_images_dir (str): Carpeta destino para imágenes de validación.\n",
    "        val_labels_dir (str): Carpeta destino para etiquetas de validación.\n",
    "        train_ratio (float): Porcentaje para entrenamiento (entre 0 y 1).\n",
    "        seed (int): Semilla para reproducibilidad.\n",
    "    \"\"\"\n",
    "    # Preparar carpetas\n",
    "    for path in [train_images_dir, train_labels_dir, val_images_dir, val_labels_dir]:\n",
    "        if os.path.exists(path):\n",
    "            shutil.rmtree(path)\n",
    "        os.makedirs(path, exist_ok=True)\n",
    "\n",
    "    # Obtener lista de imágenes\n",
    "    image_files = [f for f in os.listdir(images_dir) if f.endswith(('.jpg', '.jpeg', '.png'))]\n",
    "\n",
    "    # Dividir aleatoriamente\n",
    "    random.seed(seed)\n",
    "    random.shuffle(image_files)\n",
    "    split_idx = int(train_ratio * len(image_files))\n",
    "    train_files = image_files[:split_idx]\n",
    "    val_files = image_files[split_idx:]\n",
    "\n",
    "    # Función para copiar imágenes y etiquetas\n",
    "    def copy_files(file_list, dst_img_dir, dst_lbl_dir, set_name):\n",
    "        for fname in file_list:\n",
    "            shutil.copy2(os.path.join(images_dir, fname), os.path.join(dst_img_dir, fname))\n",
    "            label_file = os.path.splitext(fname)[0] + '.txt'\n",
    "            label_path = os.path.join(labels_dir, label_file)\n",
    "            if os.path.exists(label_path):\n",
    "                shutil.copy2(label_path, os.path.join(dst_lbl_dir, label_file))\n",
    "            else:\n",
    "                print(f\"[⚠️] Etiqueta no encontrada para {fname}\")\n",
    "        print(f\"✅ {set_name}: {len(file_list)} imágenes copiadas.\")\n",
    "\n",
    "    # Copiar a cada carpeta\n",
    "    copy_files(train_files, train_images_dir, train_labels_dir, \"Entrenamiento\")\n",
    "    copy_files(val_files, val_images_dir, val_labels_dir, \"Validación\")\n",
    "    print(\"🚀 División completada con éxito.\")"
   ]
  },
  {
   "cell_type": "code",
   "execution_count": 3,
   "id": "fb397f07",
   "metadata": {},
   "outputs": [
    {
     "name": "stdout",
     "output_type": "stream",
     "text": [
      "✅ Entrenamiento: 240 imágenes copiadas.\n",
      "✅ Validación: 60 imágenes copiadas.\n",
      "🚀 División completada con éxito.\n"
     ]
    }
   ],
   "source": [
    "# Votación\n",
    "split_dataset_yolo(\n",
    "    images_dir=\"../data/dataset_etiquetado_zonas/d_etiquetados/images\",\n",
    "    labels_dir=\"../data/dataset_etiquetado_zonas/d_etiquetados/labels\",\n",
    "\n",
    "    train_images_dir=\"../data/dataset_etiquetado_zonas/e_split/train/images\",\n",
    "    train_labels_dir=\"../data/dataset_etiquetado_zonas/e_split/train/labels\",\n",
    "    val_images_dir=\"../data/dataset_etiquetado_zonas/e_split/val/images\",\n",
    "    val_labels_dir=\"../data/dataset_etiquetado_zonas/e_split/val/labels\",\n",
    "    train_ratio=0.8\n",
    ")"
   ]
  },
  {
   "cell_type": "markdown",
   "id": "4488ac9d",
   "metadata": {},
   "source": [
    "# 2. Generar los YML - Copiar archivos\n"
   ]
  },
  {
   "cell_type": "code",
   "execution_count": 4,
   "id": "f285667b",
   "metadata": {},
   "outputs": [],
   "source": [
    "import os\n",
    "import shutil\n",
    "\n",
    "def copiar_archivos_generales(origen_dir: str, destino_dir: str, archivos: list[str]):\n",
    "    \"\"\"\n",
    "    Copia archivos generales como 'classes.txt' o 'notes.json' desde origen a destino.\n",
    "\n",
    "    Args:\n",
    "        origen_dir (str): Ruta de origen donde están los archivos.\n",
    "        destino_dir (str): Ruta de destino.\n",
    "        archivos (list): Lista de nombres de archivos a copiar.\n",
    "    \"\"\"\n",
    "    for file_name in archivos:\n",
    "        src = os.path.join(origen_dir, file_name)\n",
    "        dst = os.path.join(destino_dir, file_name)\n",
    "        if os.path.exists(src):\n",
    "            shutil.copy2(src, dst)\n",
    "            print(f\"✅ Copiado '{file_name}' a '{dst}'\")\n",
    "        else:\n",
    "            print(f\"⚠️ [ADVERTENCIA] '{file_name}' no encontrado en '{origen_dir}'\")"
   ]
  },
  {
   "cell_type": "code",
   "execution_count": 5,
   "id": "f5fd5110",
   "metadata": {},
   "outputs": [],
   "source": [
    "def generar_dataset_yaml(classes_path: str, dataset_dir: str, output_file: str = \"dataset.yml\"):\n",
    "    \"\"\"\n",
    "    Genera el archivo dataset.yml requerido por YOLO con rutas absolutas.\n",
    "\n",
    "    Args:\n",
    "        classes_path (str): Ruta al archivo classes.txt.\n",
    "        dataset_dir (str): Directorio raíz donde están las carpetas 'train' y 'val'.\n",
    "        output_file (str): Nombre del archivo de salida YAML (por defecto 'dataset.yml').\n",
    "    \"\"\"\n",
    "    if not os.path.exists(classes_path):\n",
    "        print(f\"⚠️ [ADVERTENCIA] No se encontró '{classes_path}', no se generó dataset.yml.\")\n",
    "        return\n",
    "\n",
    "    with open(classes_path, \"r\", encoding=\"utf-8\") as f:\n",
    "        class_names = [line.strip() for line in f if line.strip()]\n",
    "\n",
    "    names_yaml = \"\\n\".join([f\"  - {name}\" for name in class_names])\n",
    "\n",
    "    content = f\"\"\"train: {os.path.abspath(os.path.join(dataset_dir, \"train\"))}\n",
    "val: {os.path.abspath(os.path.join(dataset_dir, \"val\"))}\n",
    "\n",
    "nc: {len(class_names)}\n",
    "names:\n",
    "{names_yaml}\n",
    "\"\"\"\n",
    "\n",
    "    yaml_path = os.path.join(dataset_dir, output_file)\n",
    "    with open(yaml_path, \"w\", encoding=\"utf-8\") as f:\n",
    "        f.write(content)\n",
    "\n",
    "    print(f\"✅ Archivo '{output_file}' creado en '{yaml_path}'\")"
   ]
  },
  {
   "cell_type": "code",
   "execution_count": null,
   "id": "c687150e",
   "metadata": {},
   "outputs": [
    {
     "name": "stdout",
     "output_type": "stream",
     "text": [
      "✅ Copiado 'classes.txt' a '../data/dataset_etiquetado_zonas/e_split/classes.txt'\n",
      "✅ Copiado 'notes.json' a '../data/dataset_etiquetado_zonas/e_split/notes.json'\n",
      "✅ Archivo 'dataset.yml' creado en '../data/dataset_etiquetado_zonas/e_split/dataset.yml'\n"
     ]
    }
   ],
   "source": [
    "# Votación\n",
    "copiar_archivos_generales(\n",
    "    origen_dir=\"../data/dataset_etiquetado_zonas/d_etiquetados\",\n",
    "    destino_dir=\"../data/dataset_etiquetado_zonas/e_split\",\n",
    "    archivos=[\"classes.txt\", \"notes.json\"]\n",
    ")\n",
    "\n",
    "# Votacion\n",
    "generar_dataset_yaml(\n",
    "    classes_path=\"../data/dataset_etiquetado_zonas/e_split/classes.txt\",\n",
    "    dataset_dir=\"../data/dataset_etiquetado_zonas/e_split\"\n",
    ")"
   ]
  },
  {
   "cell_type": "code",
   "execution_count": null,
   "id": "7114bc01",
   "metadata": {},
   "outputs": [],
   "source": []
  }
 ],
 "metadata": {
  "kernelspec": {
   "display_name": "venv_test",
   "language": "python",
   "name": "python3"
  },
  "language_info": {
   "codemirror_mode": {
    "name": "ipython",
    "version": 3
   },
   "file_extension": ".py",
   "mimetype": "text/x-python",
   "name": "python",
   "nbconvert_exporter": "python",
   "pygments_lexer": "ipython3",
   "version": "3.10.12"
  }
 },
 "nbformat": 4,
 "nbformat_minor": 5
}
